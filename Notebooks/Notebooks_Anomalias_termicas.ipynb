{
 "cells": [
  {
   "cell_type": "code",
   "execution_count": 2,
   "metadata": {},
   "outputs": [
    {
     "data": {
      "text/html": [
       "        <script type=\"text/javascript\">\n",
       "        window.PlotlyConfig = {MathJaxConfig: 'local'};\n",
       "        if (window.MathJax) {MathJax.Hub.Config({SVG: {font: \"STIX-Web\"}});}\n",
       "        if (typeof require !== 'undefined') {\n",
       "        require.undef(\"plotly\");\n",
       "        requirejs.config({\n",
       "            paths: {\n",
       "                'plotly': ['https://cdn.plot.ly/plotly-latest.min']\n",
       "            }\n",
       "        });\n",
       "        require(['plotly'], function(Plotly) {\n",
       "            window._Plotly = Plotly;\n",
       "        });\n",
       "        }\n",
       "        </script>\n",
       "        "
      ]
     },
     "metadata": {},
     "output_type": "display_data"
    }
   ],
   "source": [
    "import os\n",
    "import sys\n",
    "import gdal\n",
    "import numpy as np\n",
    "import pandas as pd\n",
    "import matplotlib.pyplot as plt\n",
    "import seaborn as sns\n",
    "\n",
    "from math import isclose\n",
    "import math        \n",
    "\n",
    "\n",
    "import plotly.graph_objs as go\n",
    "import plotly.figure_factory as ff\n",
    "from plotly import tools\n",
    "from plotly.offline import download_plotlyjs, init_notebook_mode, plot, iplot\n",
    "init_notebook_mode(connected=True)\n",
    "\n",
    "from itertools import product        \n",
    "from tqdm import tqdm_notebook\n",
    "\n",
    "import warnings                                 \n",
    "warnings.filterwarnings('ignore')\n",
    "\n",
    "from sklearn.model_selection import train_test_split, KFold, GridSearchCV\n",
    "from sklearn import metrics\n",
    "from sklearn.metrics import roc_auc_score\n",
    "from sklearn.ensemble import RandomForestClassifier, AdaBoostClassifier, GradientBoostingClassifier, ExtraTreesClassifier\n",
    "from sklearn.svm import SVC\n",
    "import xgboost as xgb\n",
    "\n",
    "from sklearn.metrics import r2_score, median_absolute_error, mean_absolute_error\n",
    "from sklearn.metrics import median_absolute_error, mean_squared_error, mean_squared_log_error"
   ]
  },
  {
   "cell_type": "code",
   "execution_count": null,
   "metadata": {},
   "outputs": [],
   "source": [
    "%matplotlib inline"
   ]
  },
  {
   "cell_type": "code",
   "execution_count": null,
   "metadata": {},
   "outputs": [],
   "source": [
    "\"\"\"\n",
    "from simpledbf import Dbf5\n",
    "\n",
    "dbf = Dbf5('FireAnomalies.dbf')\n",
    "\n",
    "df = dbf.to_dataframe()\"\"\""
   ]
  },
  {
   "cell_type": "code",
   "execution_count": null,
   "metadata": {},
   "outputs": [],
   "source": [
    "fp = r'C:\\Users\\Miguel\\Desktop\\Teledeteccion\\Anomalias/fire_archive_M6_80980.shp'\n",
    "\n",
    "df = gpd.read_file(fp)\n",
    "\n",
    "df.head()"
   ]
  },
  {
   "cell_type": "code",
   "execution_count": null,
   "metadata": {},
   "outputs": [],
   "source": [
    "df['Year'] = pd.to_datetime(df['ACQ_DATE']).dt.year"
   ]
  },
  {
   "cell_type": "code",
   "execution_count": null,
   "metadata": {},
   "outputs": [],
   "source": [
    "new_df = df[(df['CONFIDENCE'] > 50) & (df['Year'] == 2001)]"
   ]
  },
  {
   "cell_type": "code",
   "execution_count": null,
   "metadata": {},
   "outputs": [],
   "source": [
    "new_df.head()"
   ]
  },
  {
   "cell_type": "code",
   "execution_count": null,
   "metadata": {},
   "outputs": [],
   "source": [
    "list_years = [2001, 2002, 2003, 2004, 2005, 2006, 2007, 2008, 2009, 2010, 2011,2012, 2013, 2014, 2015, 2016, 2017, 2018]"
   ]
  },
  {
   "cell_type": "code",
   "execution_count": 3,
   "metadata": {},
   "outputs": [],
   "source": [
    "import geopandas as gpd\n",
    "from geopandas import GeoDataFrame\n",
    "from shapely.geometry import Point\n",
    "import fiona\n",
    "from plotly import graph_objs as go"
   ]
  },
  {
   "cell_type": "code",
   "execution_count": null,
   "metadata": {},
   "outputs": [],
   "source": [
    "# Generamos la figura del mapa\n",
    "fig = go.Figure()\n",
    " \n",
    "# Recorremos los datos del archivo csv y extraemos sus coordenadas,\n",
    "# etiquetas a mostrar y especificamos características del marcador\n",
    "for i in new_df:\n",
    "    fig.add_trace(go.Scattergeo(\n",
    "            lon = new_df['LONGITUDE'],\n",
    "            lat = new_df['LATITUDE'],\n",
    "            text = new_df['Year'],\n",
    "            marker = dict(\n",
    "                size = new_df['CONFIDENCE']*10,\n",
    "                color = 'lightseagreen',\n",
    "                line_color='black',\n",
    "                line_width=0.5,\n",
    "                sizemode = 'area'\n",
    "        )))\n",
    " \n",
    "\n",
    "fig.layout.update(\n",
    "    title_text = 'Población en las ciudades del mundo, año 2025',\n",
    "    showlegend = False,\n",
    "    geo = dict(\n",
    "        scope='europe',\n",
    "        resolution=110,\n",
    "        projection_type='mollweide',\n",
    "        showcoastlines=True,\n",
    "        showocean=True,\n",
    "        oceancolor='#132630',\n",
    "        lakecolor='#132630',\n",
    "        coastlinecolor='#224354',\n",
    "        landcolor='#224354',\n",
    "    )\n",
    ")\n",
    " \n",
    "fig.show()"
   ]
  },
  {
   "cell_type": "code",
   "execution_count": null,
   "metadata": {},
   "outputs": [],
   "source": [
    "for year in list_years:\n",
    "    \n",
    "    df_year = new_df[new_df['Year'] == year]\n",
    "    \n",
    "    points = [Point(x, y) for x, y in zip(df_year.LONGITUDE, df_year.LATITUDE)]\n",
    "    \n",
    "    gdf = gpd.GeoDataFrame(df_year, geometry=points)\n",
    "    \n",
    "    schema = gpd.io.file.infer_schema(gdf)\n",
    "    \n",
    "    schema['properties']['Year'] = 'int'\n",
    "    \n",
    "    gdf.crs = {'init' :'epsg:4326'}\n",
    "\n",
    "    gdf.to_file(driver='ESRI Shapefile', filename='Anomalias_'+str(year)+'.shp', schema=schema)"
   ]
  },
  {
   "cell_type": "code",
   "execution_count": null,
   "metadata": {},
   "outputs": [],
   "source": [
    "fp = r'C:\\Users\\Miguel\\Desktop\\Teledeteccion\\MFE_50/MFE50CAT.shp'\n",
    "\n",
    "df = gpd.read_file(fp)\n",
    "\n",
    "df.head()"
   ]
  },
  {
   "cell_type": "code",
   "execution_count": null,
   "metadata": {},
   "outputs": [],
   "source": [
    "df.USOS_SUELO.unique()"
   ]
  },
  {
   "cell_type": "code",
   "execution_count": null,
   "metadata": {},
   "outputs": [],
   "source": [
    "usos_ajenos = ['Agua','Artificial','Cultivos']"
   ]
  },
  {
   "cell_type": "code",
   "execution_count": null,
   "metadata": {},
   "outputs": [],
   "source": [
    "for uso in usos_ajenos:\n",
    "\n",
    "    df_forestal = df.drop(df[df.USOS_SUELO == uso].index)"
   ]
  },
  {
   "cell_type": "code",
   "execution_count": null,
   "metadata": {},
   "outputs": [],
   "source": [
    "df_forestal.USOS_SUELO.unique()"
   ]
  },
  {
   "cell_type": "code",
   "execution_count": null,
   "metadata": {},
   "outputs": [],
   "source": [
    "df_forestal.columns"
   ]
  },
  {
   "cell_type": "code",
   "execution_count": null,
   "metadata": {},
   "outputs": [],
   "source": [
    "important_columns = ['POLIGON', 'PROV_MFE50', 'CCAA_MFE50', 'TFCCTOT', 'TFCCARB', 'USOS_SUELO', 'Shape_Leng', 'Shape_Area',\\\n",
    "       'geometry']\n"
   ]
  },
  {
   "cell_type": "code",
   "execution_count": null,
   "metadata": {},
   "outputs": [],
   "source": [
    "for col in df_forestal.columns:\n",
    "    \n",
    "    if col not in important_columns:\n",
    "        \n",
    "        df_forestal = df_forestal.drop(col, axis=1)"
   ]
  },
  {
   "cell_type": "code",
   "execution_count": null,
   "metadata": {},
   "outputs": [],
   "source": [
    "df_forestal.head()"
   ]
  },
  {
   "cell_type": "code",
   "execution_count": null,
   "metadata": {},
   "outputs": [],
   "source": [
    "df_forestal.crs"
   ]
  },
  {
   "cell_type": "code",
   "execution_count": null,
   "metadata": {},
   "outputs": [],
   "source": [
    "df_forestal.to_file(driver='ESRI Shapefile', filename='cat_forestal.shp')"
   ]
  },
  {
   "cell_type": "code",
   "execution_count": 4,
   "metadata": {},
   "outputs": [
    {
     "data": {
      "text/html": [
       "<div>\n",
       "<style scoped>\n",
       "    .dataframe tbody tr th:only-of-type {\n",
       "        vertical-align: middle;\n",
       "    }\n",
       "\n",
       "    .dataframe tbody tr th {\n",
       "        vertical-align: top;\n",
       "    }\n",
       "\n",
       "    .dataframe thead th {\n",
       "        text-align: right;\n",
       "    }\n",
       "</style>\n",
       "<table border=\"1\" class=\"dataframe\">\n",
       "  <thead>\n",
       "    <tr style=\"text-align: right;\">\n",
       "      <th></th>\n",
       "      <th>CCAA_MFE50</th>\n",
       "      <th>Dis</th>\n",
       "      <th>geometry</th>\n",
       "    </tr>\n",
       "  </thead>\n",
       "  <tbody>\n",
       "    <tr>\n",
       "      <td>0</td>\n",
       "      <td>51</td>\n",
       "      <td>0.0</td>\n",
       "      <td>(POLYGON ((284164.1827030445 4491033.087758471...</td>\n",
       "    </tr>\n",
       "    <tr>\n",
       "      <td>1</td>\n",
       "      <td>51</td>\n",
       "      <td>0.0</td>\n",
       "      <td>POLYGON ((493174.6282663728 4682855.995075431,...</td>\n",
       "    </tr>\n",
       "  </tbody>\n",
       "</table>\n",
       "</div>"
      ],
      "text/plain": [
       "   CCAA_MFE50  Dis                                           geometry\n",
       "0          51  0.0  (POLYGON ((284164.1827030445 4491033.087758471...\n",
       "1          51  0.0  POLYGON ((493174.6282663728 4682855.995075431,..."
      ]
     },
     "execution_count": 4,
     "metadata": {},
     "output_type": "execute_result"
    }
   ],
   "source": [
    "fp = r'C:\\Users\\Miguel\\Desktop\\Teledeteccion\\MFE_50/MFECAT_DIS_31.shp'\n",
    "\n",
    "mfe_dis = gpd.read_file(fp)\n",
    "\n",
    "mfe_dis.head()"
   ]
  },
  {
   "cell_type": "code",
   "execution_count": 8,
   "metadata": {},
   "outputs": [
    {
     "data": {
      "text/plain": [
       "shapely.geometry.multipolygon.MultiPolygon"
      ]
     },
     "execution_count": 8,
     "metadata": {},
     "output_type": "execute_result"
    }
   ],
   "source": [
    "type(mfe_dis.geometry[0])"
   ]
  },
  {
   "cell_type": "code",
   "execution_count": null,
   "metadata": {},
   "outputs": [],
   "source": [
    "mfe_dis.geometry"
   ]
  },
  {
   "cell_type": "code",
   "execution_count": null,
   "metadata": {},
   "outputs": [],
   "source": [
    "list_years = [2002, 2003, 2004, 2005, 2006, 2007, 2008, 2009, 2011,2012, 2013, 2014, 2015, 2016, 2017, 2018]"
   ]
  },
  {
   "cell_type": "code",
   "execution_count": 1,
   "metadata": {},
   "outputs": [
    {
     "ename": "NameError",
     "evalue": "name 'gpd' is not defined",
     "output_type": "error",
     "traceback": [
      "\u001b[1;31m---------------------------------------------------------------------------\u001b[0m",
      "\u001b[1;31mNameError\u001b[0m                                 Traceback (most recent call last)",
      "\u001b[1;32m<ipython-input-1-ca8cdd6bdafb>\u001b[0m in \u001b[0;36m<module>\u001b[1;34m\u001b[0m\n\u001b[0;32m      1\u001b[0m \u001b[0mfp_inc\u001b[0m \u001b[1;33m=\u001b[0m \u001b[1;34mr'C:\\Users\\Miguel\\Desktop\\Teledeteccion\\IncendisCat/incendis10.shp'\u001b[0m\u001b[1;33m\u001b[0m\u001b[1;33m\u001b[0m\u001b[0m\n\u001b[0;32m      2\u001b[0m \u001b[1;33m\u001b[0m\u001b[0m\n\u001b[1;32m----> 3\u001b[1;33m \u001b[0mincendis\u001b[0m \u001b[1;33m=\u001b[0m \u001b[0mgpd\u001b[0m\u001b[1;33m.\u001b[0m\u001b[0mread_file\u001b[0m\u001b[1;33m(\u001b[0m\u001b[0mfp_inc\u001b[0m\u001b[1;33m)\u001b[0m\u001b[1;33m\u001b[0m\u001b[1;33m\u001b[0m\u001b[0m\n\u001b[0m",
      "\u001b[1;31mNameError\u001b[0m: name 'gpd' is not defined"
     ]
    }
   ],
   "source": [
    "fp_inc = r'C:\\Users\\Miguel\\Desktop\\Teledeteccion\\IncendisCat/incendis10.shp'\n",
    "\n",
    "incendis = gpd.read_file(fp_inc)"
   ]
  },
  {
   "cell_type": "code",
   "execution_count": null,
   "metadata": {},
   "outputs": [],
   "source": [
    "inter = gpd.overlay(mfe_dis, incendis, how='intersection')\n",
    "inter = inter.dissolve(by='CODI_FINAL', aggfunc='first')"
   ]
  },
  {
   "cell_type": "code",
   "execution_count": null,
   "metadata": {},
   "outputs": [],
   "source": [
    "inter.head()"
   ]
  },
  {
   "cell_type": "code",
   "execution_count": null,
   "metadata": {},
   "outputs": [],
   "source": [
    "inter.to_file(driver='ESRI Shapefile', filename='incmfe_2010.shp')"
   ]
  },
  {
   "cell_type": "code",
   "execution_count": null,
   "metadata": {},
   "outputs": [],
   "source": [
    "for year in list_years:\n",
    "    \n",
    "    fp_inc = r'C:\\Users\\Miguel\\Desktop\\Teledeteccion\\IncendisCat/incendis'+str(year)+'.shp'\n",
    "    \n",
    "    incendis = gpd.read_file(fp_inc)\n",
    "    \n",
    "    inter = gpd.overlay(mfe_dis, incendis, how='intersection')\n",
    "    \n",
    "    inter = inter.dissolve(by='CODI_FINAL', aggfunc='first')\n",
    "    \n",
    "    inter.to_file(driver='ESRI Shapefile', filename='incmfe_'+str(year)+'.shp')"
   ]
  },
  {
   "cell_type": "code",
   "execution_count": null,
   "metadata": {},
   "outputs": [],
   "source": []
  },
  {
   "cell_type": "code",
   "execution_count": null,
   "metadata": {},
   "outputs": [],
   "source": []
  }
 ],
 "metadata": {
  "kernelspec": {
   "display_name": "Python 3",
   "language": "python",
   "name": "python3"
  },
  "language_info": {
   "codemirror_mode": {
    "name": "ipython",
    "version": 3
   },
   "file_extension": ".py",
   "mimetype": "text/x-python",
   "name": "python",
   "nbconvert_exporter": "python",
   "pygments_lexer": "ipython3",
   "version": "3.7.3"
  }
 },
 "nbformat": 4,
 "nbformat_minor": 2
}

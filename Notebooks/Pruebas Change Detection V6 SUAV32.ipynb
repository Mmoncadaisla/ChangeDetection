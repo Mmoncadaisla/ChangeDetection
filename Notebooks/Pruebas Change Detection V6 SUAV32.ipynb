{
 "cells": [
  {
   "cell_type": "code",
   "execution_count": 6,
   "metadata": {},
   "outputs": [],
   "source": [
    "import os\n",
    "import sys\n",
    "import gdal\n",
    "import numpy as np\n",
    "import pandas as pd\n",
    "import matplotlib.pyplot as plt\n",
    "import seaborn as sns\n",
    "from osgeo import gdal_array\n",
    "%matplotlib inline\n",
    "from math import isclose\n",
    "import math\n",
    "from dateutil.relativedelta import relativedelta # working with dates with style\n",
    "from scipy.optimize import minimize              # for function minimization\n",
    "\n",
    "import statsmodels.formula.api as smf            # statistics and econometrics\n",
    "import statsmodels.tsa.api as smt\n",
    "import statsmodels.api as sm\n",
    "import scipy.stats as scs\n",
    "\n",
    "from itertools import product                    # some useful functions\n",
    "from tqdm import tqdm_notebook\n",
    "\n",
    "import warnings                                  # `do not disturbe` mode\n",
    "warnings.filterwarnings('ignore')\n",
    "\n",
    "from sklearn.metrics import r2_score, median_absolute_error, mean_absolute_error\n",
    "from sklearn.metrics import median_absolute_error, mean_squared_error, mean_squared_log_error\n",
    "\n",
    "from sklearn.model_selection import TimeSeriesSplit # you have everything done for you"
   ]
  },
  {
   "cell_type": "code",
   "execution_count": 7,
   "metadata": {},
   "outputs": [
    {
     "data": {
      "text/html": [
       "        <script type=\"text/javascript\">\n",
       "        window.PlotlyConfig = {MathJaxConfig: 'local'};\n",
       "        if (window.MathJax) {MathJax.Hub.Config({SVG: {font: \"STIX-Web\"}});}\n",
       "        if (typeof require !== 'undefined') {\n",
       "        require.undef(\"plotly\");\n",
       "        requirejs.config({\n",
       "            paths: {\n",
       "                'plotly': ['https://cdn.plot.ly/plotly-latest.min']\n",
       "            }\n",
       "        });\n",
       "        require(['plotly'], function(Plotly) {\n",
       "            window._Plotly = Plotly;\n",
       "        });\n",
       "        }\n",
       "        </script>\n",
       "        "
      ]
     },
     "metadata": {},
     "output_type": "display_data"
    },
    {
     "data": {
      "text/html": [
       "        <script type=\"text/javascript\">\n",
       "        window.PlotlyConfig = {MathJaxConfig: 'local'};\n",
       "        if (window.MathJax) {MathJax.Hub.Config({SVG: {font: \"STIX-Web\"}});}\n",
       "        if (typeof require !== 'undefined') {\n",
       "        require.undef(\"plotly\");\n",
       "        requirejs.config({\n",
       "            paths: {\n",
       "                'plotly': ['https://cdn.plot.ly/plotly-latest.min']\n",
       "            }\n",
       "        });\n",
       "        require(['plotly'], function(Plotly) {\n",
       "            window._Plotly = Plotly;\n",
       "        });\n",
       "        }\n",
       "        </script>\n",
       "        "
      ]
     },
     "metadata": {},
     "output_type": "display_data"
    }
   ],
   "source": [
    "from plotly import __version__\n",
    "from plotly.offline import download_plotlyjs, init_notebook_mode, plot, iplot\n",
    "import cufflinks as cf\n",
    "init_notebook_mode(connected=True)\n",
    "cf.go_offline()"
   ]
  },
  {
   "cell_type": "code",
   "execution_count": 8,
   "metadata": {},
   "outputs": [],
   "source": [
    "import numba\n",
    "from numba import jit"
   ]
  },
  {
   "cell_type": "code",
   "execution_count": 9,
   "metadata": {},
   "outputs": [
    {
     "name": "stdout",
     "output_type": "stream",
     "text": [
      "Image size is 1098 rows x 2842 columns\n",
      "\n",
      "Number of bands in image: 827\n",
      "\n"
     ]
    }
   ],
   "source": [
    "dataset = gdal.Open('SUAV_42.dat')\n",
    "rows = dataset.RasterYSize\n",
    "cols = dataset.RasterXSize\n",
    "\n",
    "num_bands = dataset.RasterCount\n",
    "print('Image size is {r} rows x {c} columns\\n'.format(r=rows, c=cols))\n",
    "print('Number of bands in image: {n}\\n'.format(n=num_bands))"
   ]
  },
  {
   "cell_type": "code",
   "execution_count": 10,
   "metadata": {},
   "outputs": [],
   "source": [
    "image_datatype = dataset.GetRasterBand(1).DataType\n",
    "\n",
    "# Creamos una matriz de tipo cubo de forma eficiente\n",
    "\n",
    "image = np.zeros((dataset.RasterYSize, dataset.RasterXSize, dataset.RasterCount), dtype=gdal_array.GDALTypeCodeToNumericTypeCode(image_datatype))\n",
    "# Recorremos las bandas en el dataset mediante un bucle\n",
    "\n",
    "for b in range(dataset.RasterCount):\n",
    "    # El indice en GDAL empieza en 1 pero en python en 0 -- por lo que añadimos 1 para nuestras llamadas\n",
    "    band = dataset.GetRasterBand(b + 1)\n",
    "    # Leemos los datos en la tercera dimension (temporal) de nuestra matriz\n",
    "    image[:, :, b] = band.ReadAsArray()"
   ]
  },
  {
   "cell_type": "code",
   "execution_count": 11,
   "metadata": {},
   "outputs": [],
   "source": [
    "image = np.nan_to_num(image)\n",
    "banda = np.arange(1,828,1)"
   ]
  },
  {
   "cell_type": "code",
   "execution_count": 12,
   "metadata": {},
   "outputs": [],
   "source": [
    "def change_detection(arr):\n",
    "     \n",
    "    \"\"\"     \n",
    "    Funcion para detectar cambios en la serie temporal de NDVI. \n",
    "    Requiere de los paquetes: numpy y pandas\n",
    "    Esta funcion fue programada por Miguel Moncada en octubre de 2019.\n",
    "    \"\"\"    \n",
    "\n",
    "    # Transformamos el input array a serie para trabajar con pandas\n",
    "    \n",
    "    series = pd.Series(arr)\n",
    "    window, scale = 46, 1.96\n",
    "    \n",
    "    # Computamos la media movil para el tamaño de ventana deseado y el n de desv. tipicas del intervalo de confianza\n",
    "    \n",
    "    rolling_mean = series.rolling(window=window).mean()\n",
    "    \n",
    "    # Calculamos el limite inferior del intervalo de confianza\n",
    "    mae = mean_absolute_error(series[window:], rolling_mean[window:])\n",
    "    deviation = np.std(series[window:] - rolling_mean[window:])\n",
    "    lower_bond = rolling_mean - (mae + scale * deviation)\n",
    "    \n",
    "    rolling_mean = rolling_mean.fillna(0)\n",
    "    \n",
    "    # Creamos un array llamado 'lista' con la etiqueta del eje cuyo valor en 'y' es inferior al limite inferior \n",
    "    \n",
    "    lista = banda[np.less(series,lower_bond)]\n",
    "    \n",
    "    # Creamos nuestros arrays vacios 'change' (donde incorporaremos anomalias - resultado final) y warn (incertidumbres)\n",
    "    \n",
    "    change = []\n",
    "    warn = []\n",
    "    \n",
    "    # Filtramos las anomalías que no nos interesan comprobando si el cambio se ha mantenido en los valores adyacentes\n",
    "    # Al comparar con los 3 siguientes valores, si nos encontramos con una anomalia al final de la serie tendremos warn\n",
    "    \n",
    "    for element in lista:\n",
    "        \n",
    "        if element >= 824:\n",
    "            warn.append(999)\n",
    "            \n",
    "        else:\n",
    "            a = arr[element-1]\n",
    "            b = arr[element]\n",
    "            c = arr[element+1]\n",
    "            d = arr[element+2]\n",
    "            \n",
    "            if isclose(a,b,rel_tol=0.25) & isclose(a,c,rel_tol=0.3) & isclose(b,c,rel_tol=0.25)\\\n",
    "            & isclose(c,d,rel_tol=0.25):\n",
    "                    change.append(element)\n",
    "  \n",
    "    change = np.array(change)\n",
    "    \n",
    "    # Comprobamos que haya más de un valor anómalo consecutivo en nuestro array y eliminamos los casos puntuales\n",
    "    \n",
    "    change = [i for i in change if np.isclose(np.delete(change,np.argwhere(change == i)),i,atol=5).any()]\n",
    "            \n",
    "    # Creamos un array con las anomalias en la media movil tomando un scale de 0.4\n",
    "    \n",
    "    window, scale = 46, 0.4\n",
    "    \n",
    "    second_rolling_mean = rolling_mean.rolling(window=window).mean()\n",
    "    second_mae = mean_absolute_error(rolling_mean[window:], second_rolling_mean[window:])\n",
    "    second_deviation = np.std(rolling_mean[window:] - second_rolling_mean[window:])\n",
    "    second_lower_bond = second_rolling_mean - (second_mae + scale * second_deviation)\n",
    "    \n",
    "    vector = banda[np.less(rolling_mean,second_lower_bond)]\n",
    "    \n",
    "    if vector.size == 0:\n",
    "        vector = np.append(vector,0)\n",
    "    \n",
    "    # Filtramos con los valores de anomalias en la media movil\n",
    "    \n",
    "    change = np.array([i for i in change if np.isclose(vector, i, atol=23).any()])\n",
    "  \n",
    "    # Redondeamos para obtener el año del cambio en cuestion\n",
    "    \n",
    "    change = 2001 + np.floor(change/46)\n",
    "    \n",
    "    # Obtenemos los valores unicos de nuestro array y devolvemos como salida el primero de estos\n",
    "        \n",
    "    change = np.unique(np.array(change)).astype(int)\n",
    "    \n",
    "    # Eliminamos años consecutivos en nuestro array \n",
    "    \n",
    "    for i in range(1,change.size,1):\n",
    "        if change[i] == change[i-1] + 1:\n",
    "            change[i] = 0\n",
    "        \n",
    "    # Comprobamos que el array no esta vacio para evitar errores\n",
    "    \n",
    "    if change.size == 0:\n",
    "        change = np.append(change,values = [0,0,0])\n",
    "        \n",
    "    elif change.size == 1:\n",
    "        change = np.append(change,values = [0,0])\n",
    "\n",
    "    elif change.size == 2:\n",
    "        change = np.append(change,values = [0])\n",
    "    \n",
    "    \n",
    "    return  change[0],change[1],change[2]"
   ]
  },
  {
   "cell_type": "code",
   "execution_count": null,
   "metadata": {},
   "outputs": [],
   "source": []
  },
  {
   "cell_type": "markdown",
   "metadata": {},
   "source": [
    "# INICIO PRUEBAS Y TEST DE LA VERSION 5"
   ]
  },
  {
   "cell_type": "code",
   "execution_count": null,
   "metadata": {},
   "outputs": [],
   "source": [
    "def plotMovingAverage(series, window, scale, plot_intervals=False, plot_anomalies=False):\n",
    "\n",
    "    \"\"\"\n",
    "        series - dataframe with timeseries\n",
    "        window - rolling window size \n",
    "        plot_intervals - show confidence intervals\n",
    "        plot_anomalies - show anomalies \n",
    "    \"\"\"\n",
    "    rolling_mean = series.rolling(window=window).mean()\n",
    "\n",
    "    plt.figure(figsize=(15,5))\n",
    "    plt.title(\"Moving average\\n window size = {}\".format(window))\n",
    "    plt.plot(rolling_mean, \"g\", label=\"Rolling mean trend\")\n",
    "\n",
    "    # Plot confidence intervals for smoothed values\n",
    "    if plot_intervals:\n",
    "        mae = mean_absolute_error(series[window:], rolling_mean[window:])\n",
    "        deviation = np.std(series[window:] - rolling_mean[window:])\n",
    "        lower_bond = rolling_mean - (mae + scale * deviation)\n",
    "        upper_bond = rolling_mean + (mae + scale * deviation)\n",
    "        plt.plot(upper_bond, \"r--\", label=\"Upper Bond / Lower Bond\")\n",
    "        plt.plot(lower_bond, \"r--\")\n",
    "        \n",
    "        # Having the intervals, find abnormal values\n",
    "        if plot_anomalies:\n",
    "            anomalies = pd.DataFrame(index=series.index) #, columns=series.columns)\n",
    "            anomalies[series<lower_bond] = series[series<lower_bond]\n",
    "            anomalies[series>upper_bond] = series[series>upper_bond]\n",
    "            plt.plot(anomalies, \"ro\", markersize=10)\n",
    "        \n",
    "    plt.plot(series[window:], label=\"Actual values\")\n",
    "    plt.legend(loc=\"upper left\")\n",
    "    plt.grid(True)\n",
    "    return rolling_mean, lower_bond"
   ]
  },
  {
   "cell_type": "code",
   "execution_count": null,
   "metadata": {},
   "outputs": [],
   "source": [
    "pixel = []\n",
    "numpix = []\n",
    "\n",
    "a = -878\n",
    "n = 1992\n",
    "ba = 0\n",
    "\n",
    "for band in image[a-1][n-1]:\n",
    "    ba+=1\n",
    "    \n",
    "    pixel.append(band)\n",
    "    numpix.append(ba)\n",
    "    \n",
    "    arr1 = np.array(numpix)\n",
    "    arr2 = np.array(pixel)\n",
    "    d = {'banda': arr1, 'valor': arr2, 'fila': a+1, 'columna': n+1}\n",
    "    df3 = pd.DataFrame(d)\n",
    "\n",
    "df3.iplot(kind='scatter', x='banda', y='valor')"
   ]
  },
  {
   "cell_type": "code",
   "execution_count": null,
   "metadata": {},
   "outputs": [],
   "source": []
  },
  {
   "cell_type": "code",
   "execution_count": null,
   "metadata": {},
   "outputs": [],
   "source": [
    "change_detection(arr2)"
   ]
  },
  {
   "cell_type": "code",
   "execution_count": null,
   "metadata": {},
   "outputs": [],
   "source": []
  },
  {
   "cell_type": "code",
   "execution_count": null,
   "metadata": {},
   "outputs": [],
   "source": [
    "media_movil, lower_bond = plotMovingAverage(pd.Series(arr2),46, scale=1.96, plot_intervals=True)\n",
    "media_movil = np.nan_to_num(media_movil)"
   ]
  },
  {
   "cell_type": "code",
   "execution_count": null,
   "metadata": {},
   "outputs": [],
   "source": [
    "mean, lower = plotMovingAverage(pd.Series(media_movil),46, scale=0.55,plot_intervals=True)"
   ]
  },
  {
   "cell_type": "code",
   "execution_count": null,
   "metadata": {},
   "outputs": [],
   "source": [
    "mean, lower = plotMovingAverage(pd.Series(media_movil),46, scale=0.45,plot_intervals=True)"
   ]
  },
  {
   "cell_type": "markdown",
   "metadata": {},
   "source": [
    "# FIN PRUEBAS Y TEST DE LA VERSION 5"
   ]
  },
  {
   "cell_type": "code",
   "execution_count": 13,
   "metadata": {},
   "outputs": [],
   "source": [
    "array = np.apply_along_axis(change_detection,2,image)"
   ]
  },
  {
   "cell_type": "code",
   "execution_count": 14,
   "metadata": {},
   "outputs": [],
   "source": [
    "array_first = array[:,:,0]\n",
    "array_second = array[:,:,1]\n",
    "array_third = array[:,:,2]"
   ]
  },
  {
   "cell_type": "code",
   "execution_count": 15,
   "metadata": {},
   "outputs": [],
   "source": [
    "grid = np.indices((1098,2842))\n",
    "\n",
    "df = pd.DataFrame()\n",
    "\n",
    "df['Row'] = np.ravel(grid[0]+1)\n",
    "df['Col'] = np.ravel(grid[1]+1)\n",
    "\n",
    "df['Year1'] = np.ravel(array_first)\n",
    "df['Year2'] = np.ravel(array_second)\n",
    "df['Year3'] = np.ravel(array_third)\n",
    "\n",
    "df.to_csv('OnlyCDV6_Y123_S42.csv')"
   ]
  },
  {
   "cell_type": "code",
   "execution_count": 16,
   "metadata": {},
   "outputs": [
    {
     "data": {
      "text/plain": [
       "<matplotlib.colorbar.Colorbar at 0x7f000cf70a90>"
      ]
     },
     "execution_count": 16,
     "metadata": {},
     "output_type": "execute_result"
    },
    {
     "data": {
      "image/png": "[encoded data removed]",
      "text/plain": [
       "<Figure size 864x576 with 2 Axes>"
      ]
     },
     "metadata": {
      "needs_background": "light"
     },
     "output_type": "display_data"
    }
   ],
   "source": [
    "plt.figure(figsize=(12,8))\n",
    "plt.imshow(array_first, cmap='viridis', alpha=0.8)\n",
    "plt.colorbar()"
   ]
  },
  {
   "cell_type": "code",
   "execution_count": 17,
   "metadata": {},
   "outputs": [
    {
     "data": {
      "text/plain": [
       "<matplotlib.colorbar.Colorbar at 0x7f0009f6c828>"
      ]
     },
     "execution_count": 17,
     "metadata": {},
     "output_type": "execute_result"
    },
    {
     "data": {
      "image/png": "[encoded data removed]",
      "text/plain": [
       "<Figure size 864x576 with 2 Axes>"
      ]
     },
     "metadata": {
      "needs_background": "light"
     },
     "output_type": "display_data"
    }
   ],
   "source": [
    "plt.figure(figsize=(12,8))\n",
    "plt.imshow(array_second, cmap='viridis', alpha=0.8)\n",
    "plt.colorbar()"
   ]
  },
  {
   "cell_type": "code",
   "execution_count": 18,
   "metadata": {},
   "outputs": [
    {
     "data": {
      "text/plain": [
       "<matplotlib.colorbar.Colorbar at 0x7f0009e93f60>"
      ]
     },
     "execution_count": 18,
     "metadata": {},
     "output_type": "execute_result"
    },
    {
     "data": {
      "image/png": "[encoded data removed]",
      "text/plain": [
       "<Figure size 864x576 with 2 Axes>"
      ]
     },
     "metadata": {
      "needs_background": "light"
     },
     "output_type": "display_data"
    }
   ],
   "source": [
    "plt.figure(figsize=(12,8))\n",
    "plt.imshow(array_third, cmap='viridis', alpha=0.8)\n",
    "plt.colorbar()"
   ]
  },
  {
   "cell_type": "code",
   "execution_count": 19,
   "metadata": {},
   "outputs": [],
   "source": [
    "from gdalconst import *\n",
    "from osgeo import osr\n",
    "\n",
    "# Function to read the original file's projection:\n",
    "def GetGeoInfo(FileName):\n",
    "    SourceDS = gdal.Open(FileName, GA_ReadOnly)\n",
    "    NDV = SourceDS.GetRasterBand(1).GetNoDataValue()\n",
    "    xsize = SourceDS.RasterXSize\n",
    "    ysize = SourceDS.RasterYSize\n",
    "    GeoT = SourceDS.GetGeoTransform()\n",
    "    Projection = osr.SpatialReference()\n",
    "    Projection.ImportFromWkt(SourceDS.GetProjectionRef())\n",
    "    DataType = SourceDS.GetRasterBand(1).DataType\n",
    "    DataType = gdal.GetDataTypeName(DataType)\n",
    "    driver = gdal.GetDriverByName('GTiff')\n",
    "    return NDV, xsize, ysize, GeoT, Projection, DataType, driver"
   ]
  },
  {
   "cell_type": "code",
   "execution_count": 20,
   "metadata": {},
   "outputs": [],
   "source": [
    "# Function to write a new file.\n",
    "def CreateGeoTiff(Name, Array, driver, NDV, \n",
    "                  xsize, ysize, GeoT, Projection, DataType):\n",
    "    if DataType == 'Float32':\n",
    "        DataType = gdal.GDT_Float32\n",
    "    NewFileName = Name+'.tif'\n",
    "    # Set nans to the original No Data Value\n",
    "    #Array[np.isnan(Array)] = NDV\n",
    "    # Set up the dataset\n",
    "    DataSet = driver.Create( NewFileName, xsize, ysize, 1, DataType)\n",
    "            # the '1' is for band 1.\n",
    "    DataSet.SetGeoTransform(GeoT)\n",
    "    DataSet.SetProjection( Projection.ExportToWkt() )\n",
    "    # Write the array\n",
    "    DataSet.GetRasterBand(1).WriteArray( Array )\n",
    "    #DataSet.GetRasterBand(1).SetNoDataValue(NDV)\n",
    "    return NewFileName"
   ]
  },
  {
   "cell_type": "code",
   "execution_count": 21,
   "metadata": {},
   "outputs": [],
   "source": [
    "NDV, xsize, ysize, GeoT, Projection, DataType, driver = GetGeoInfo('SUAV_42.dat')"
   ]
  },
  {
   "cell_type": "code",
   "execution_count": 22,
   "metadata": {},
   "outputs": [
    {
     "data": {
      "text/plain": [
       "'OnlyCDV6_SUAV42_first.tif'"
      ]
     },
     "execution_count": 22,
     "metadata": {},
     "output_type": "execute_result"
    }
   ],
   "source": [
    "CreateGeoTiff('OnlyCDV6_SUAV42_first', array_first, driver, NDV, \n",
    "                  xsize, ysize, GeoT, Projection, DataType)"
   ]
  },
  {
   "cell_type": "code",
   "execution_count": 23,
   "metadata": {},
   "outputs": [
    {
     "data": {
      "text/plain": [
       "'OnlyCDV6_SUAV42_second.tif'"
      ]
     },
     "execution_count": 23,
     "metadata": {},
     "output_type": "execute_result"
    }
   ],
   "source": [
    "CreateGeoTiff('OnlyCDV6_SUAV42_second', array_second, driver, NDV, \n",
    "                  xsize, ysize, GeoT, Projection, DataType)"
   ]
  },
  {
   "cell_type": "code",
   "execution_count": 24,
   "metadata": {},
   "outputs": [
    {
     "data": {
      "text/plain": [
       "'OnlyCDV6_SUAV42_third.tif'"
      ]
     },
     "execution_count": 24,
     "metadata": {},
     "output_type": "execute_result"
    }
   ],
   "source": [
    "CreateGeoTiff('OnlyCDV6_SUAV42_third', array_third, driver, NDV, \n",
    "                  xsize, ysize, GeoT, Projection, DataType)"
   ]
  },
  {
   "cell_type": "code",
   "execution_count": null,
   "metadata": {},
   "outputs": [],
   "source": []
  }
 ],
 "metadata": {
  "kernelspec": {
   "display_name": "Python 3",
   "language": "python",
   "name": "python3"
  },
  "language_info": {
   "codemirror_mode": {
    "name": "ipython",
    "version": 3
   },
   "file_extension": ".py",
   "mimetype": "text/x-python",
   "name": "python",
   "nbconvert_exporter": "python",
   "pygments_lexer": "ipython3",
   "version": "3.7.0"
  }
 },
 "nbformat": 4,
 "nbformat_minor": 2
}

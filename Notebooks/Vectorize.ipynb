{
 "cells": [
  {
   "cell_type": "code",
   "execution_count": 1,
   "metadata": {},
   "outputs": [],
   "source": [
    "import numpy as np\n",
    "import pandas as pd\n",
    "import geopandas as gpd\n",
    "import cartoframes"
   ]
  },
  {
   "cell_type": "code",
   "execution_count": null,
   "metadata": {},
   "outputs": [],
   "source": [
    "full_gdf = pd.DataFrame(columns=['geometry', 'raster_val'])\n",
    "\n",
    "for year in range(2002,2019):\n",
    "\n",
    "    mask = None\n",
    "\n",
    "    path = f'../images/NASA/BurnedArea{year}.tif'\n",
    "\n",
    "    src = rasterio.open(path)\n",
    "\n",
    "    image = src.read(1)\n",
    "\n",
    "    results = (\n",
    "        {'properties': {'raster_val': v}, 'geometry': s}\n",
    "\n",
    "        for i, (s, v) in enumerate(\n",
    "            features.shapes(image, mask=mask, transform=src.transform)))\n",
    "\n",
    "    geoms = list(results)\n",
    "\n",
    "    gdf = gpd.GeoDataFrame.from_features(geoms)\n",
    "    \n",
    "    gdf['year'] = year\n",
    "    \n",
    "    gdf.crs = 'epsg:4326'\n",
    "\n",
    "    #gdf.crs = 'epsg:32630'\n",
    "\n",
    "    #gdf = gdf.to_crs('epsg:4326')\n",
    "\n",
    "    gdf = gdf[gdf['raster_val'] > 1]\n",
    "    \n",
    "    full_gdf = full_gdf.append(gdf, ignore_index=True)"
   ]
  },
  {
   "cell_type": "code",
   "execution_count": null,
   "metadata": {},
   "outputs": [],
   "source": [
    "from cartoframes.viz import Map, Layer"
   ]
  },
  {
   "cell_type": "code",
   "execution_count": null,
   "metadata": {},
   "outputs": [],
   "source": [
    "cartoframes.auth.set_default_credentials('../../Desktop/carto_creds.json')"
   ]
  },
  {
   "cell_type": "code",
   "execution_count": null,
   "metadata": {},
   "outputs": [],
   "source": [
    "cartoframes.to_carto(full_gdf, 'results_nasa', if_exists='replace')"
   ]
  },
  {
   "cell_type": "code",
   "execution_count": null,
   "metadata": {},
   "outputs": [],
   "source": [
    "from cartoframes.data.clients import SQLClient\n",
    "\n",
    "SQLClient().execute(\"\"\"UPDATE results_nasa SET the_geom = ST_MakeValid(the_geom), the_geom_webmercator = ST_MakeValid(the_geom_webmercator)\"\"\")"
   ]
  },
  {
   "cell_type": "code",
   "execution_count": null,
   "metadata": {},
   "outputs": [],
   "source": [
    "from cartoframes.viz import color_bins_style, basemaps, popup_element\n",
    "\n",
    "layer_acfcd = Layer(\n",
    "    \"\"\"SELECT acfcd.cartodb_id, acfcd.the_geom, acfcd.the_geom_webmercator, acfcd.raster_val as year FROM results_acfcd acfcd, cntr_rg_01m_2020_4326 ctr WHERE acfcd.raster_val < 2018 AND ctr.CNTR_ID IN ('ES', 'PT') AND ST_Intersects(acfcd.the_geom, ctr.the_geom)\"\"\",\n",
    "    color_bins_style('year', palette='TealRose', bins=5, opacity=0.7), title='ACFCD', default_popup_hover=False, default_popup_click=False)\n",
    "\n",
    "layer_ocd = Layer(\n",
    "    \"\"\"SELECT ocd.cartodb_id, ocd.the_geom, ocd.the_geom_webmercator, ocd.raster_val as year FROM results_ocd ocd, cntr_rg_01m_2020_4326 ctr WHERE ocd.raster_val < 2018 AND ctr.CNTR_ID IN ('ES', 'PT') AND ST_Intersects(ocd.the_geom, ctr.the_geom)\"\"\",\n",
    "    color_bins_style('year', palette='TealRose', bins=5, opacity=0.7), title='OCD', default_legend=False, default_popup_hover=False, default_popup_click=False, popup_click=[popup_element('year', title='Year of event')])\n",
    "\n",
    "layer_nasa = Layer(\n",
    "    \"\"\"SELECT nasa.cartodb_id, nasa.the_geom, nasa.the_geom_webmercator, nasa.year as year FROM results_nasa nasa, cntr_rg_01m_2020_4326 ctr WHERE nasa.raster_val < 2018 AND ctr.CNTR_ID IN ('ES', 'PT') AND ST_Intersects(nasa.the_geom, ctr.the_geom)\"\"\",\n",
    "    color_bins_style('year', palette='TealRose', bins=5, opacity=0.7), title='NASA', default_legend=False, default_popup_hover=False, default_popup_click=False)\n",
    "\n",
    "\n",
    "my_map = Map([layer_acfcd, layer_ocd, layer_nasa],\n",
    "            basemap=basemaps.voyager,\n",
    "            layer_selector=True\n",
    "           )"
   ]
  },
  {
   "cell_type": "code",
   "execution_count": null,
   "metadata": {},
   "outputs": [],
   "source": [
    "my_map"
   ]
  },
  {
   "cell_type": "code",
   "execution_count": null,
   "metadata": {},
   "outputs": [],
   "source": [
    "my_map.publish('results_ocd', password=None, if_exists='replace')"
   ]
  },
  {
   "cell_type": "code",
   "execution_count": null,
   "metadata": {},
   "outputs": [],
   "source": [
    "gdf_nasa = cartoframes.read_carto(\"\"\"SELECT nasa.cartodb_id, nasa.the_geom, nasa.the_geom_webmercator, nasa.year as year FROM results_nasa nasa, cntr_rg_01m_2020_4326 ctr WHERE nasa.raster_val < 2018 AND ctr.CNTR_ID IN ('ES', 'PT') AND ST_Intersects(nasa.the_geom, ctr.the_geom)\"\"\")"
   ]
  },
  {
   "cell_type": "code",
   "execution_count": null,
   "metadata": {},
   "outputs": [],
   "source": [
    "gdf_nasa.head()"
   ]
  },
  {
   "cell_type": "code",
   "execution_count": null,
   "metadata": {},
   "outputs": [],
   "source": [
    "gdf_nasa['year'] = gdf_nasa['year'].astype(int)"
   ]
  },
  {
   "cell_type": "code",
   "execution_count": null,
   "metadata": {},
   "outputs": [],
   "source": [
    "gdf_nasa.to_file('modelo_nasa.geojson', driver='GeoJSON')"
   ]
  },
  {
   "cell_type": "code",
   "execution_count": 6,
   "metadata": {},
   "outputs": [
    {
     "name": "stdout",
     "output_type": "stream",
     "text": [
      "../results/vector/modelo_nasa.geojson: No such file or directory\n",
      "driver GeoJSON does not support creation option ENCODING\n"
     ]
    }
   ],
   "source": [
    "model = 'modelo_nasa'\n",
    "\n",
    "path = f'../results/vector/{model}.geojson'\n",
    "\n",
    "gdf = gpd.read_file(path)\n",
    "\n",
    "gdf.drop('cartodb_id', axis=1, inplace=True)\n",
    "\n",
    "gdf.to_file(path, driver='GeoJSON')"
   ]
  },
  {
   "cell_type": "code",
   "execution_count": 7,
   "metadata": {},
   "outputs": [],
   "source": [
    "gdf = gpd.read_file(path)"
   ]
  },
  {
   "cell_type": "code",
   "execution_count": 8,
   "metadata": {},
   "outputs": [
    {
     "data": {
      "text/html": [
       "<div>\n",
       "<style scoped>\n",
       "    .dataframe tbody tr th:only-of-type {\n",
       "        vertical-align: middle;\n",
       "    }\n",
       "\n",
       "    .dataframe tbody tr th {\n",
       "        vertical-align: top;\n",
       "    }\n",
       "\n",
       "    .dataframe thead th {\n",
       "        text-align: right;\n",
       "    }\n",
       "</style>\n",
       "<table border=\"1\" class=\"dataframe\">\n",
       "  <thead>\n",
       "    <tr style=\"text-align: right;\">\n",
       "      <th></th>\n",
       "      <th>year</th>\n",
       "      <th>geometry</th>\n",
       "    </tr>\n",
       "  </thead>\n",
       "  <tbody>\n",
       "    <tr>\n",
       "      <th>0</th>\n",
       "      <td>2002</td>\n",
       "      <td>POLYGON ((-6.33312 43.49643, -6.33312 43.48744...</td>\n",
       "    </tr>\n",
       "    <tr>\n",
       "      <th>1</th>\n",
       "      <td>2002</td>\n",
       "      <td>POLYGON ((-5.57854 43.47846, -5.57854 43.46948...</td>\n",
       "    </tr>\n",
       "    <tr>\n",
       "      <th>2</th>\n",
       "      <td>2002</td>\n",
       "      <td>POLYGON ((-2.75783 43.45151, -2.75783 43.44253...</td>\n",
       "    </tr>\n",
       "    <tr>\n",
       "      <th>3</th>\n",
       "      <td>2002</td>\n",
       "      <td>POLYGON ((-5.74922 43.42456, -5.74922 43.41558...</td>\n",
       "    </tr>\n",
       "    <tr>\n",
       "      <th>4</th>\n",
       "      <td>2002</td>\n",
       "      <td>POLYGON ((-5.74023 43.42456, -5.74023 43.41558...</td>\n",
       "    </tr>\n",
       "  </tbody>\n",
       "</table>\n",
       "</div>"
      ],
      "text/plain": [
       "   year                                           geometry\n",
       "0  2002  POLYGON ((-6.33312 43.49643, -6.33312 43.48744...\n",
       "1  2002  POLYGON ((-5.57854 43.47846, -5.57854 43.46948...\n",
       "2  2002  POLYGON ((-2.75783 43.45151, -2.75783 43.44253...\n",
       "3  2002  POLYGON ((-5.74922 43.42456, -5.74922 43.41558...\n",
       "4  2002  POLYGON ((-5.74023 43.42456, -5.74023 43.41558..."
      ]
     },
     "execution_count": 8,
     "metadata": {},
     "output_type": "execute_result"
    }
   ],
   "source": [
    "gdf.head()"
   ]
  },
  {
   "cell_type": "code",
   "execution_count": 9,
   "metadata": {},
   "outputs": [],
   "source": [
    "cartoframes.auth.set_default_credentials(username='mmoncadaisla', api_key='3c1aed5c809da52fdcfbd067ac0c6de5d91ad5d7')"
   ]
  },
  {
   "cell_type": "code",
   "execution_count": null,
   "metadata": {},
   "outputs": [],
   "source": [
    "from cartoframes.viz import color_bins_style, basemaps, popup_element\n",
    "\n",
    "layer_acfcd = Layer(\n",
    "    '',\n",
    "    color_bins_style('year', palette='TealRose', bins=5, opacity=0.7), title='ACFCD', default_popup_hover=False, default_popup_click=False)\n",
    "\n",
    "layer_ocd = Layer(\n",
    "    '',\n",
    "    color_bins_style('year', palette='TealRose', bins=5, opacity=0.7), title='OCD', default_legend=False, default_popup_hover=False, default_popup_click=False, popup_click=[popup_element('year', title='Year of event')])\n",
    "\n",
    "layer_nasa = Layer(\n",
    "    '',\n",
    "    color_bins_style('year', palette='TealRose', bins=5, opacity=0.7), title='NASA', default_legend=False, default_popup_hover=False, default_popup_click=False)\n",
    "\n",
    "\n",
    "my_map = Map([layer_acfcd, layer_ocd, layer_nasa],\n",
    "            basemap=basemaps.voyager,\n",
    "            layer_selector=True\n",
    "           )"
   ]
  }
 ],
 "metadata": {
  "kernelspec": {
   "display_name": "Python 3",
   "language": "python",
   "name": "python3"
  },
  "language_info": {
   "codemirror_mode": {
    "name": "ipython",
    "version": 3
   },
   "file_extension": ".py",
   "mimetype": "text/x-python",
   "name": "python",
   "nbconvert_exporter": "python",
   "pygments_lexer": "ipython3",
   "version": "3.7.4"
  },
  "toc": {
   "base_numbering": 1,
   "nav_menu": {},
   "number_sections": true,
   "sideBar": true,
   "skip_h1_title": false,
   "title_cell": "Table of Contents",
   "title_sidebar": "Contents",
   "toc_cell": false,
   "toc_position": {},
   "toc_section_display": true,
   "toc_window_display": false
  },
  "varInspector": {
   "cols": {
    "lenName": 16,
    "lenType": 16,
    "lenVar": 40
   },
   "kernels_config": {
    "python": {
     "delete_cmd_postfix": "",
     "delete_cmd_prefix": "del ",
     "library": "var_list.py",
     "varRefreshCmd": "print(var_dic_list())"
    },
    "r": {
     "delete_cmd_postfix": ") ",
     "delete_cmd_prefix": "rm(",
     "library": "var_list.r",
     "varRefreshCmd": "cat(var_dic_list()) "
    }
   },
   "types_to_exclude": [
    "module",
    "function",
    "builtin_function_or_method",
    "instance",
    "_Feature"
   ],
   "window_display": false
  }
 },
 "nbformat": 4,
 "nbformat_minor": 2
}
